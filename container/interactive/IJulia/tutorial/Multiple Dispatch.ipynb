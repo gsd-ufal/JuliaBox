{
 "cells": [
  {
   "cell_type": "markdown",
   "metadata": {},
   "source": [
    "# (Dynamic) Multiple Dispatch in Julia"
   ]
  },
  {
   "cell_type": "markdown",
   "metadata": {},
   "source": [
    "[Multiple dispatch](http://en.wikipedia.org/wiki/Multiple_dispatch) can be thought of as a generalization of **object-oriented** (OO) programming.\n",
    "\n",
    "In a typical OO language like Python, an object type (class) *owns* certain *methods* (functions), and are typically called via\n",
    "```\n",
    "object.method(arg1, arg2)\n",
    "```\n",
    "Depending on the type of `object`, the runtime system will *dispatch* to different `method` definitions.\n",
    "\n",
    "In Julia, the same call would be \"spelled\" differently:\n",
    "```\n",
    "method(object, arg1, arg2)\n",
    "```\n",
    "Spelled this way, you should notice something odd about OO programming: why is the *first* argument so special?\n",
    "\n",
    "Traditional OO programming corresponds to **single dispatch**: the runtime chooses `method` based on the type of the *first* argument only.   Julia implements **multiple dispatch**: the runtime chooses `method` based on the types of *all* the arguments."
   ]
  },
  {
   "cell_type": "markdown",
   "metadata": {},
   "source": [
    "## Example: Binary mathematical operators"
   ]
  },
  {
   "cell_type": "markdown",
   "metadata": {},
   "source": [
    "A classic example of the need for multiple dispatch is the case of binary math operators.  If you compute `x * y`, the definition of the `*` function depends upon *both* the arguments, not just on `x`.\n",
    "\n",
    "Julia defines *many versions* of the `*` function:"
   ]
  },
  {
   "cell_type": "code",
   "execution_count": 1,
   "metadata": {
    "collapsed": false
   },
   "outputs": [
    {
     "data": {
      "text/html": [
       "115 methods for generic function <b>*</b>:<ul><li> *(x::<b>Bool</b>,y::<b>Bool</b>) at <a href=\"https://github.com/JuliaLang/julia/tree/483dbf5279efe29f94cf35d42de0ab0a673fb34e/base/bool.jl#L41\" target=\"_blank\">bool.jl:41</a><li> *<i>{T<:Unsigned}</i>(x::<b>Bool</b>,y::<b>T<:Unsigned</b>) at <a href=\"https://github.com/JuliaLang/julia/tree/483dbf5279efe29f94cf35d42de0ab0a673fb34e/base/bool.jl#L56\" target=\"_blank\">bool.jl:56</a><li> *(x::<b>Bool</b>,z::<b>Complex{T<:Real}</b>) at <a href=\"https://github.com/JuliaLang/julia/tree/483dbf5279efe29f94cf35d42de0ab0a673fb34e/base/complex.jl#L116\" target=\"_blank\">complex.jl:116</a><li> *<i>{T<:Number}</i>(x::<b>Bool</b>,y::<b>T<:Number</b>) at <a href=\"https://github.com/JuliaLang/julia/tree/483dbf5279efe29f94cf35d42de0ab0a673fb34e/base/bool.jl#L52\" target=\"_blank\">bool.jl:52</a><li> *(z::<b>Complex{T<:Real}</b>,x::<b>Bool</b>) at <a href=\"https://github.com/JuliaLang/julia/tree/483dbf5279efe29f94cf35d42de0ab0a673fb34e/base/complex.jl#L117\" target=\"_blank\">complex.jl:117</a><li> *(y::<b>Number</b>,x::<b>Bool</b>) at <a href=\"https://github.com/JuliaLang/julia/tree/483dbf5279efe29f94cf35d42de0ab0a673fb34e/base/bool.jl#L58\" target=\"_blank\">bool.jl:58</a><li> *<i>{T,S}</i>(A::<b>Union(SubArray{T,2,A<:DenseArray{T,N},I<:(Union(Range{Int64},Int64)...,)},DenseArray{T,2})</b>,B::<b>Union(DenseArray{S,2},SubArray{S,2,A<:DenseArray{T,N},I<:(Union(Range{Int64},Int64)...,)})</b>) at <a href=\"https://github.com/JuliaLang/julia/tree/483dbf5279efe29f94cf35d42de0ab0a673fb34e/base/linalg/matmul.jl#L116\" target=\"_blank\">linalg/matmul.jl:116</a><li> *(A::<b>Union(Hermitian{T},Symmetric{T})</b>,B::<b>Union(Hermitian{T},Symmetric{T})</b>) at <a href=\"https://github.com/JuliaLang/julia/tree/483dbf5279efe29f94cf35d42de0ab0a673fb34e/base/linalg/symmetric.jl#L35\" target=\"_blank\">linalg/symmetric.jl:35</a><li> *(A::<b>Union(Hermitian{T},Symmetric{T})</b>,B::<b>Union(SubArray{T,2,A<:DenseArray{T,N},I<:(Union(Range{Int64},Int64)...,)},DenseArray{T,2})</b>) at <a href=\"https://github.com/JuliaLang/julia/tree/483dbf5279efe29f94cf35d42de0ab0a673fb34e/base/linalg/symmetric.jl#L36\" target=\"_blank\">linalg/symmetric.jl:36</a><li> *(A::<b>Union(SubArray{T,2,A<:DenseArray{T,N},I<:(Union(Range{Int64},Int64)...,)},DenseArray{T,2})</b>,B::<b>Union(Hermitian{T},Symmetric{T})</b>) at <a href=\"https://github.com/JuliaLang/julia/tree/483dbf5279efe29f94cf35d42de0ab0a673fb34e/base/linalg/symmetric.jl#L37\" target=\"_blank\">linalg/symmetric.jl:37</a><li> *<i>{T<:Union(Float64,Complex{Float32},Float32,Complex{Float64}),S<:Union(SubArray{T,2,A<:DenseArray{T,N},I<:(Union(Range{Int64},Int64)...,)},DenseArray{T,2}),UpLo,IsUnit}</i>(A::<b>Triangular{T<:Union(Float64,Complex{Float32},Float32,Complex{Float64}),S<:Union(SubArray{T,2,A<:DenseArray{T,N},I<:(Union(Range{Int64},Int64)...,)},DenseArray{T,2}),UpLo,IsUnit}</b>,B::<b>Triangular{T<:Union(Float64,Complex{Float32},Float32,Complex{Float64}),S<:Union(SubArray{T,2,A<:DenseArray{T,N},I<:(Union(Range{Int64},Int64)...,)},DenseArray{T,2}),UpLo,IsUnit}</b>) at <a href=\"https://github.com/JuliaLang/julia/tree/483dbf5279efe29f94cf35d42de0ab0a673fb34e/base/linalg/triangular.jl#L23\" target=\"_blank\">linalg/triangular.jl:23</a><li> *(A::<b>Tridiagonal{T}</b>,B::<b>Triangular{T,S<:AbstractArray{T,2},UpLo,IsUnit}</b>) at <a href=\"https://github.com/JuliaLang/julia/tree/483dbf5279efe29f94cf35d42de0ab0a673fb34e/base/linalg/triangular.jl#L206\" target=\"_blank\">linalg/triangular.jl:206</a><li> *<i>{TA,TB,SA<:AbstractArray{T,2},SB<:AbstractArray{T,2},UpLoA,UpLoB,IsUnitA,IsUnitB}</i>(A::<b>Triangular{TA,SA<:AbstractArray{T,2},UpLoA,IsUnitA}</b>,B::<b>Triangular{TB,SB<:AbstractArray{T,2},UpLoB,IsUnitB}</b>) at <a href=\"https://github.com/JuliaLang/julia/tree/483dbf5279efe29f94cf35d42de0ab0a673fb34e/base/linalg/triangular.jl#L209\" target=\"_blank\">linalg/triangular.jl:209</a><li> *(Da::<b>Diagonal{T}</b>,Db::<b>Diagonal{T}</b>) at <a href=\"https://github.com/JuliaLang/julia/tree/483dbf5279efe29f94cf35d42de0ab0a673fb34e/base/linalg/diagonal.jl#L53\" target=\"_blank\">linalg/diagonal.jl:53</a><li> *(A::<b>Union(SymTridiagonal{T},Tridiagonal{T},Diagonal{T},Bidiagonal{T},Triangular{T,S<:AbstractArray{T,2},UpLo,IsUnit})</b>,B::<b>Union(SymTridiagonal{T},Tridiagonal{T},Diagonal{T},Bidiagonal{T},Triangular{T,S<:AbstractArray{T,2},UpLo,IsUnit})</b>) at <a href=\"https://github.com/JuliaLang/julia/tree/483dbf5279efe29f94cf35d42de0ab0a673fb34e/base/linalg/bidiag.jl#L114\" target=\"_blank\">linalg/bidiag.jl:114</a><li> *<i>{T<:Union(Int16,Int8,Int32)}</i>(x::<b>T<:Union(Int16,Int8,Int32)</b>,y::<b>T<:Union(Int16,Int8,Int32)</b>) at <a href=\"https://github.com/JuliaLang/julia/tree/483dbf5279efe29f94cf35d42de0ab0a673fb34e/base/int.jl#L18\" target=\"_blank\">int.jl:18</a><li> *<i>{T<:Union(Uint8,Uint16,Uint32)}</i>(x::<b>T<:Union(Uint8,Uint16,Uint32)</b>,y::<b>T<:Union(Uint8,Uint16,Uint32)</b>) at <a href=\"https://github.com/JuliaLang/julia/tree/483dbf5279efe29f94cf35d42de0ab0a673fb34e/base/int.jl#L22\" target=\"_blank\">int.jl:22</a><li> *(x::<b>Int64</b>,y::<b>Int64</b>) at <a href=\"https://github.com/JuliaLang/julia/tree/483dbf5279efe29f94cf35d42de0ab0a673fb34e/base/int.jl#L47\" target=\"_blank\">int.jl:47</a><li> *(x::<b>Uint64</b>,y::<b>Uint64</b>) at <a href=\"https://github.com/JuliaLang/julia/tree/483dbf5279efe29f94cf35d42de0ab0a673fb34e/base/int.jl#L48\" target=\"_blank\">int.jl:48</a><li> *(x::<b>Int128</b>,y::<b>Int128</b>) at <a href=\"https://github.com/JuliaLang/julia/tree/483dbf5279efe29f94cf35d42de0ab0a673fb34e/base/int.jl#L586\" target=\"_blank\">int.jl:586</a><li> *(x::<b>Uint128</b>,y::<b>Uint128</b>) at <a href=\"https://github.com/JuliaLang/julia/tree/483dbf5279efe29f94cf35d42de0ab0a673fb34e/base/int.jl#L587\" target=\"_blank\">int.jl:587</a><li> *(x::<b>Float32</b>,y::<b>Float32</b>) at <a href=\"https://github.com/JuliaLang/julia/tree/483dbf5279efe29f94cf35d42de0ab0a673fb34e/base/float.jl#L123\" target=\"_blank\">float.jl:123</a><li> *(x::<b>Float64</b>,y::<b>Float64</b>) at <a href=\"https://github.com/JuliaLang/julia/tree/483dbf5279efe29f94cf35d42de0ab0a673fb34e/base/float.jl#L124\" target=\"_blank\">float.jl:124</a><li> *(z::<b>Complex{T<:Real}</b>,w::<b>Complex{T<:Real}</b>) at <a href=\"https://github.com/JuliaLang/julia/tree/483dbf5279efe29f94cf35d42de0ab0a673fb34e/base/complex.jl#L112\" target=\"_blank\">complex.jl:112</a><li> *(x::<b>Real</b>,z::<b>Complex{T<:Real}</b>) at <a href=\"https://github.com/JuliaLang/julia/tree/483dbf5279efe29f94cf35d42de0ab0a673fb34e/base/complex.jl#L118\" target=\"_blank\">complex.jl:118</a><li> *(z::<b>Complex{T<:Real}</b>,x::<b>Real</b>) at <a href=\"https://github.com/JuliaLang/julia/tree/483dbf5279efe29f94cf35d42de0ab0a673fb34e/base/complex.jl#L119\" target=\"_blank\">complex.jl:119</a><li> *(x::<b>Rational{T<:Integer}</b>,y::<b>Rational{T<:Integer}</b>) at <a href=\"https://github.com/JuliaLang/julia/tree/483dbf5279efe29f94cf35d42de0ab0a673fb34e/base/rational.jl#L118\" target=\"_blank\">rational.jl:118</a><li> *(a::<b>Float16</b>,b::<b>Float16</b>) at <a href=\"https://github.com/JuliaLang/julia/tree/483dbf5279efe29f94cf35d42de0ab0a673fb34e/base/float16.jl#L132\" target=\"_blank\">float16.jl:132</a><li> *(x::<b>BigInt</b>,y::<b>BigInt</b>) at <a href=\"https://github.com/JuliaLang/julia/tree/483dbf5279efe29f94cf35d42de0ab0a673fb34e/base/gmp.jl#L195\" target=\"_blank\">gmp.jl:195</a><li> *(a::<b>BigInt</b>,b::<b>BigInt</b>,c::<b>BigInt</b>) at <a href=\"https://github.com/JuliaLang/julia/tree/483dbf5279efe29f94cf35d42de0ab0a673fb34e/base/gmp.jl#L218\" target=\"_blank\">gmp.jl:218</a><li> *(a::<b>BigInt</b>,b::<b>BigInt</b>,c::<b>BigInt</b>,d::<b>BigInt</b>) at <a href=\"https://github.com/JuliaLang/julia/tree/483dbf5279efe29f94cf35d42de0ab0a673fb34e/base/gmp.jl#L224\" target=\"_blank\">gmp.jl:224</a><li> *(a::<b>BigInt</b>,b::<b>BigInt</b>,c::<b>BigInt</b>,d::<b>BigInt</b>,e::<b>BigInt</b>) at <a href=\"https://github.com/JuliaLang/julia/tree/483dbf5279efe29f94cf35d42de0ab0a673fb34e/base/gmp.jl#L231\" target=\"_blank\">gmp.jl:231</a><li> *(x::<b>BigInt</b>,c::<b>Union(Uint8,Uint16,Uint64,Uint32)</b>) at <a href=\"https://github.com/JuliaLang/julia/tree/483dbf5279efe29f94cf35d42de0ab0a673fb34e/base/gmp.jl#L265\" target=\"_blank\">gmp.jl:265</a><li> *(c::<b>Union(Uint8,Uint16,Uint64,Uint32)</b>,x::<b>BigInt</b>) at <a href=\"https://github.com/JuliaLang/julia/tree/483dbf5279efe29f94cf35d42de0ab0a673fb34e/base/gmp.jl#L269\" target=\"_blank\">gmp.jl:269</a><li> *(x::<b>BigInt</b>,c::<b>Union(Int16,Int8,Int32,Int64)</b>) at <a href=\"https://github.com/JuliaLang/julia/tree/483dbf5279efe29f94cf35d42de0ab0a673fb34e/base/gmp.jl#L271\" target=\"_blank\">gmp.jl:271</a><li> *(c::<b>Union(Int16,Int8,Int32,Int64)</b>,x::<b>BigInt</b>) at <a href=\"https://github.com/JuliaLang/julia/tree/483dbf5279efe29f94cf35d42de0ab0a673fb34e/base/gmp.jl#L275\" target=\"_blank\">gmp.jl:275</a><li> *(x::<b>BigFloat</b>,y::<b>BigFloat</b>) at <a href=\"https://github.com/JuliaLang/julia/tree/483dbf5279efe29f94cf35d42de0ab0a673fb34e/base/mpfr.jl#L149\" target=\"_blank\">mpfr.jl:149</a><li> *(x::<b>BigFloat</b>,c::<b>Union(Uint8,Uint16,Uint64,Uint32)</b>) at <a href=\"https://github.com/JuliaLang/julia/tree/483dbf5279efe29f94cf35d42de0ab0a673fb34e/base/mpfr.jl#L156\" target=\"_blank\">mpfr.jl:156</a><li> *(c::<b>Union(Uint8,Uint16,Uint64,Uint32)</b>,x::<b>BigFloat</b>) at <a href=\"https://github.com/JuliaLang/julia/tree/483dbf5279efe29f94cf35d42de0ab0a673fb34e/base/mpfr.jl#L160\" target=\"_blank\">mpfr.jl:160</a><li> *(x::<b>BigFloat</b>,c::<b>Union(Int16,Int8,Int32,Int64)</b>) at <a href=\"https://github.com/JuliaLang/julia/tree/483dbf5279efe29f94cf35d42de0ab0a673fb34e/base/mpfr.jl#L164\" target=\"_blank\">mpfr.jl:164</a><li> *(c::<b>Union(Int16,Int8,Int32,Int64)</b>,x::<b>BigFloat</b>) at <a href=\"https://github.com/JuliaLang/julia/tree/483dbf5279efe29f94cf35d42de0ab0a673fb34e/base/mpfr.jl#L168\" target=\"_blank\">mpfr.jl:168</a><li> *(x::<b>BigFloat</b>,c::<b>Union(Float64,Float16,Float32)</b>) at <a href=\"https://github.com/JuliaLang/julia/tree/483dbf5279efe29f94cf35d42de0ab0a673fb34e/base/mpfr.jl#L172\" target=\"_blank\">mpfr.jl:172</a><li> *(c::<b>Union(Float64,Float16,Float32)</b>,x::<b>BigFloat</b>) at <a href=\"https://github.com/JuliaLang/julia/tree/483dbf5279efe29f94cf35d42de0ab0a673fb34e/base/mpfr.jl#L176\" target=\"_blank\">mpfr.jl:176</a><li> *(x::<b>BigFloat</b>,c::<b>BigInt</b>) at <a href=\"https://github.com/JuliaLang/julia/tree/483dbf5279efe29f94cf35d42de0ab0a673fb34e/base/mpfr.jl#L180\" target=\"_blank\">mpfr.jl:180</a><li> *(c::<b>BigInt</b>,x::<b>BigFloat</b>) at <a href=\"https://github.com/JuliaLang/julia/tree/483dbf5279efe29f94cf35d42de0ab0a673fb34e/base/mpfr.jl#L184\" target=\"_blank\">mpfr.jl:184</a><li> *(a::<b>BigFloat</b>,b::<b>BigFloat</b>,c::<b>BigFloat</b>) at <a href=\"https://github.com/JuliaLang/julia/tree/483dbf5279efe29f94cf35d42de0ab0a673fb34e/base/mpfr.jl#L255\" target=\"_blank\">mpfr.jl:255</a><li> *(a::<b>BigFloat</b>,b::<b>BigFloat</b>,c::<b>BigFloat</b>,d::<b>BigFloat</b>) at <a href=\"https://github.com/JuliaLang/julia/tree/483dbf5279efe29f94cf35d42de0ab0a673fb34e/base/mpfr.jl#L261\" target=\"_blank\">mpfr.jl:261</a><li> *(a::<b>BigFloat</b>,b::<b>BigFloat</b>,c::<b>BigFloat</b>,d::<b>BigFloat</b>,e::<b>BigFloat</b>) at <a href=\"https://github.com/JuliaLang/julia/tree/483dbf5279efe29f94cf35d42de0ab0a673fb34e/base/mpfr.jl#L268\" target=\"_blank\">mpfr.jl:268</a><li> *(x::<b>MathConst{sym}</b>,y::<b>MathConst{sym}</b>) at <a href=\"https://github.com/JuliaLang/julia/tree/483dbf5279efe29f94cf35d42de0ab0a673fb34e/base/constants.jl#L23\" target=\"_blank\">constants.jl:23</a><li> *<i>{T<:Number}</i>(x::<b>T<:Number</b>,y::<b>T<:Number</b>) at <a href=\"https://github.com/JuliaLang/julia/tree/483dbf5279efe29f94cf35d42de0ab0a673fb34e/base/promotion.jl#L189\" target=\"_blank\">promotion.jl:189</a><li> *(x::<b>Number</b>,y::<b>Number</b>) at <a href=\"https://github.com/JuliaLang/julia/tree/483dbf5279efe29f94cf35d42de0ab0a673fb34e/base/promotion.jl#L159\" target=\"_blank\">promotion.jl:159</a><li> *<i>{T<:Number}</i>(x::<b>T<:Number</b>,D::<b>Diagonal{T}</b>) at <a href=\"https://github.com/JuliaLang/julia/tree/483dbf5279efe29f94cf35d42de0ab0a673fb34e/base/linalg/diagonal.jl#L50\" target=\"_blank\">linalg/diagonal.jl:50</a><li> *(s::<b>Real</b>,p::<b>Vec2</b>) at <a href=\"https://github.com/JuliaLang/julia/tree/483dbf5279efe29f94cf35d42de0ab0a673fb34e/base/graphics.jl#L64\" target=\"_blank\">graphics.jl:64</a><li> *(s::<b>Real</b>,bb::<b>BoundingBox</b>) at <a href=\"https://github.com/JuliaLang/julia/tree/483dbf5279efe29f94cf35d42de0ab0a673fb34e/base/graphics.jl#L151\" target=\"_blank\">graphics.jl:151</a><li> *(x::<b>Number</b>) at <a href=\"https://github.com/JuliaLang/julia/tree/483dbf5279efe29f94cf35d42de0ab0a673fb34e/base/operators.jl#L72\" target=\"_blank\">operators.jl:72</a><li> *<i>{T<:Union(Float64,Complex{Float32},Float32,Complex{Float64}),S}</i>(A::<b>Union(SubArray{T<:Union(Float64,Complex{Float32},Float32,Complex{Float64}),2,A<:DenseArray{T,N},I<:(Union(Range{Int64},Int64)...,)},DenseArray{T<:Union(Float64,Complex{Float32},Float32,Complex{Float64}),2})</b>,x::<b>Union(SubArray{S,1,A<:DenseArray{T,N},I<:(Union(Range{Int64},Int64)...,)},DenseArray{S,1})</b>) at <a href=\"https://github.com/JuliaLang/julia/tree/483dbf5279efe29f94cf35d42de0ab0a673fb34e/base/linalg/matmul.jl#L67\" target=\"_blank\">linalg/matmul.jl:67</a><li> *(A::<b>SymTridiagonal{T}</b>,B::<b>Number</b>) at <a href=\"https://github.com/JuliaLang/julia/tree/483dbf5279efe29f94cf35d42de0ab0a673fb34e/base/linalg/tridiag.jl#L59\" target=\"_blank\">linalg/tridiag.jl:59</a><li> *(A::<b>Tridiagonal{T}</b>,B::<b>Number</b>) at <a href=\"https://github.com/JuliaLang/julia/tree/483dbf5279efe29f94cf35d42de0ab0a673fb34e/base/linalg/tridiag.jl#L249\" target=\"_blank\">linalg/tridiag.jl:249</a><li> *<i>{T<:Union(Float64,Complex{Float32},Float32,Complex{Float64}),S<:Union(SubArray{T,2,A<:DenseArray{T,N},I<:(Union(Range{Int64},Int64)...,)},DenseArray{T,2}),UpLo,IsUnit}</i>(A::<b>Triangular{T<:Union(Float64,Complex{Float32},Float32,Complex{Float64}),S<:Union(SubArray{T,2,A<:DenseArray{T,N},I<:(Union(Range{Int64},Int64)...,)},DenseArray{T,2}),UpLo,IsUnit}</b>,B::<b>Union(SubArray{T,2,A<:DenseArray{T,N},I<:(Union(Range{Int64},Int64)...,)},SubArray{T,1,A<:DenseArray{T,N},I<:(Union(Range{Int64},Int64)...,)},DenseArray{T,2},DenseArray{T,1})</b>) at <a href=\"https://github.com/JuliaLang/julia/tree/483dbf5279efe29f94cf35d42de0ab0a673fb34e/base/linalg/triangular.jl#L24\" target=\"_blank\">linalg/triangular.jl:24</a><li> *<i>{T,S,UpLo,IsUnit}</i>(A::<b>Triangular{T,S,UpLo,IsUnit}</b>,x::<b>Number</b>) at <a href=\"https://github.com/JuliaLang/julia/tree/483dbf5279efe29f94cf35d42de0ab0a673fb34e/base/linalg/triangular.jl#L157\" target=\"_blank\">linalg/triangular.jl:157</a><li> *<i>{TvA,TiA}</i>(X::<b>Triangular{T,S<:AbstractArray{T,2},UpLo,IsUnit}</b>,A::<b>SparseMatrixCSC{TvA,TiA}</b>) at <a href=\"https://github.com/JuliaLang/julia/tree/483dbf5279efe29f94cf35d42de0ab0a673fb34e/base/linalg/sparse.jl#L129\" target=\"_blank\">linalg/sparse.jl:129</a><li> *<i>{T,S<:AbstractArray{T,2},UpLo,IsUnit}</i>(A::<b>Triangular{T,S<:AbstractArray{T,2},UpLo,IsUnit}</b>,B::<b>Union(AbstractArray{T,2},AbstractArray{T,1})</b>) at <a href=\"https://github.com/JuliaLang/julia/tree/483dbf5279efe29f94cf35d42de0ab0a673fb34e/base/linalg/triangular.jl#L210\" target=\"_blank\">linalg/triangular.jl:210</a><li> *<i>{TA,Tb}</i>(A::<b>Union(QRPackedQ{TA},QRCompactWYQ{TA})</b>,b::<b>Union(DenseArray{Tb,1},SubArray{Tb,1,A<:DenseArray{T,N},I<:(Union(Range{Int64},Int64)...,)})</b>) at <a href=\"https://github.com/JuliaLang/julia/tree/483dbf5279efe29f94cf35d42de0ab0a673fb34e/base/linalg/factorization.jl#L277\" target=\"_blank\">linalg/factorization.jl:277</a><li> *<i>{TA,TB}</i>(A::<b>Union(QRPackedQ{TA},QRCompactWYQ{TA})</b>,B::<b>Union(DenseArray{TB,2},SubArray{TB,2,A<:DenseArray{T,N},I<:(Union(Range{Int64},Int64)...,)})</b>) at <a href=\"https://github.com/JuliaLang/julia/tree/483dbf5279efe29f94cf35d42de0ab0a673fb34e/base/linalg/factorization.jl#L283\" target=\"_blank\">linalg/factorization.jl:283</a><li> *<i>{TA,TQ,N}</i>(A::<b>Union(SubArray{TA,N,A<:DenseArray{T,N},I<:(Union(Range{Int64},Int64)...,)},DenseArray{TA,N})</b>,Q::<b>Union(QRCompactWYQ{TQ},QRPackedQ{TQ})</b>) at <a href=\"https://github.com/JuliaLang/julia/tree/483dbf5279efe29f94cf35d42de0ab0a673fb34e/base/linalg/factorization.jl#L345\" target=\"_blank\">linalg/factorization.jl:345</a><li> *(W::<b>Woodbury{T}</b>,B::<b>Union(SubArray{T,2,A<:DenseArray{T,N},I<:(Union(Range{Int64},Int64)...,)},SubArray{T,1,A<:DenseArray{T,N},I<:(Union(Range{Int64},Int64)...,)},DenseArray{T,2},DenseArray{T,1})</b>) at <a href=\"https://github.com/JuliaLang/julia/tree/483dbf5279efe29f94cf35d42de0ab0a673fb34e/base/linalg/woodbury.jl#L70\" target=\"_blank\">linalg/woodbury.jl:70</a><li> *<i>{T<:Number}</i>(D::<b>Diagonal{T}</b>,x::<b>T<:Number</b>) at <a href=\"https://github.com/JuliaLang/julia/tree/483dbf5279efe29f94cf35d42de0ab0a673fb34e/base/linalg/diagonal.jl#L51\" target=\"_blank\">linalg/diagonal.jl:51</a><li> *(D::<b>Diagonal{T}</b>,V::<b>Array{T,1}</b>) at <a href=\"https://github.com/JuliaLang/julia/tree/483dbf5279efe29f94cf35d42de0ab0a673fb34e/base/linalg/diagonal.jl#L54\" target=\"_blank\">linalg/diagonal.jl:54</a><li> *(A::<b>Array{T,2}</b>,D::<b>Diagonal{T}</b>) at <a href=\"https://github.com/JuliaLang/julia/tree/483dbf5279efe29f94cf35d42de0ab0a673fb34e/base/linalg/diagonal.jl#L55\" target=\"_blank\">linalg/diagonal.jl:55</a><li> *(D::<b>Diagonal{T}</b>,A::<b>Array{T,2}</b>) at <a href=\"https://github.com/JuliaLang/julia/tree/483dbf5279efe29f94cf35d42de0ab0a673fb34e/base/linalg/diagonal.jl#L56\" target=\"_blank\">linalg/diagonal.jl:56</a><li> *(A::<b>Bidiagonal{T}</b>,B::<b>Number</b>) at <a href=\"https://github.com/JuliaLang/julia/tree/483dbf5279efe29f94cf35d42de0ab0a673fb34e/base/linalg/bidiag.jl#L108\" target=\"_blank\">linalg/bidiag.jl:108</a><li> *<i>{T}</i>(A::<b>Bidiagonal{T}</b>,B::<b>AbstractArray{T,1}</b>) at <a href=\"https://github.com/JuliaLang/julia/tree/483dbf5279efe29f94cf35d42de0ab0a673fb34e/base/linalg/bidiag.jl#L119\" target=\"_blank\">linalg/bidiag.jl:119</a><li> *(B::<b>BitArray{2}</b>,J::<b>UniformScaling{T<:Number}</b>) at <a href=\"https://github.com/JuliaLang/julia/tree/483dbf5279efe29f94cf35d42de0ab0a673fb34e/base/linalg/uniformscaling.jl#L68\" target=\"_blank\">linalg/uniformscaling.jl:68</a><li> *(S::<b>SparseMatrixCSC{Tv,Ti<:Integer}</b>,J::<b>UniformScaling{T<:Number}</b>) at <a href=\"https://github.com/JuliaLang/julia/tree/483dbf5279efe29f94cf35d42de0ab0a673fb34e/base/linalg/uniformscaling.jl#L70\" target=\"_blank\">linalg/uniformscaling.jl:70</a><li> *<i>{T}</i>(G1::<b>Givens{T}</b>,G2::<b>Givens{T}</b>) at <a href=\"https://github.com/JuliaLang/julia/tree/483dbf5279efe29f94cf35d42de0ab0a673fb34e/base/linalg/givens.jl#L197\" target=\"_blank\">linalg/givens.jl:197</a><li> *(G::<b>Givens{T}</b>,B::<b>BitArray{2}</b>) at <a href=\"https://github.com/JuliaLang/julia/tree/483dbf5279efe29f94cf35d42de0ab0a673fb34e/base/linalg/givens.jl#L198\" target=\"_blank\">linalg/givens.jl:198</a><li> *<i>{TBf,TBi}</i>(G::<b>Givens{T}</b>,B::<b>SparseMatrixCSC{TBf,TBi}</b>) at <a href=\"https://github.com/JuliaLang/julia/tree/483dbf5279efe29f94cf35d42de0ab0a673fb34e/base/linalg/givens.jl#L199\" target=\"_blank\">linalg/givens.jl:199</a><li> *(R::<b>Union(Rotation{T},Givens{T})</b>,A::<b>AbstractArray{T,2}</b>) at <a href=\"https://github.com/JuliaLang/julia/tree/483dbf5279efe29f94cf35d42de0ab0a673fb34e/base/linalg/givens.jl#L200\" target=\"_blank\">linalg/givens.jl:200</a><li> *<i>{Tv,Ti}</i>(A::<b>SparseMatrixCSC{Tv,Ti}</b>,B::<b>SparseMatrixCSC{Tv,Ti}</b>) at <a href=\"https://github.com/JuliaLang/julia/tree/483dbf5279efe29f94cf35d42de0ab0a673fb34e/base/linalg/sparse.jl#L143\" target=\"_blank\">linalg/sparse.jl:143</a><li> *<i>{TvA,TiA,TvB,TiB}</i>(A::<b>SparseMatrixCSC{TvA,TiA}</b>,B::<b>SparseMatrixCSC{TvB,TiB}</b>) at <a href=\"https://github.com/JuliaLang/julia/tree/483dbf5279efe29f94cf35d42de0ab0a673fb34e/base/linalg/sparse.jl#L4\" target=\"_blank\">linalg/sparse.jl:4</a><li> *<i>{TvA,TiA}</i>(A::<b>SparseMatrixCSC{TvA,TiA}</b>,X::<b>BitArray{1}</b>) at <a href=\"https://github.com/JuliaLang/julia/tree/483dbf5279efe29f94cf35d42de0ab0a673fb34e/base/linalg/sparse.jl#L11\" target=\"_blank\">linalg/sparse.jl:11</a><li> *<i>{TvA,TiA}</i>(A::<b>SparseMatrixCSC{TvA,TiA}</b>,X::<b>BitArray{2}</b>) at <a href=\"https://github.com/JuliaLang/julia/tree/483dbf5279efe29f94cf35d42de0ab0a673fb34e/base/linalg/sparse.jl#L109\" target=\"_blank\">linalg/sparse.jl:109</a><li> *<i>{TA,S,Tx}</i>(A::<b>SparseMatrixCSC{TA,S}</b>,x::<b>AbstractArray{Tx,1}</b>) at <a href=\"https://github.com/JuliaLang/julia/tree/483dbf5279efe29f94cf35d42de0ab0a673fb34e/base/linalg/sparse.jl#L32\" target=\"_blank\">linalg/sparse.jl:32</a><li> *(X::<b>BitArray{1}</b>,A::<b>SparseMatrixCSC{Tv,Ti<:Integer}</b>) at <a href=\"https://github.com/JuliaLang/julia/tree/483dbf5279efe29f94cf35d42de0ab0a673fb34e/base/linalg/sparse.jl#L95\" target=\"_blank\">linalg/sparse.jl:95</a><li> *<i>{TvA,TiA,TX}</i>(A::<b>SparseMatrixCSC{TvA,TiA}</b>,X::<b>AbstractArray{TX,2}</b>) at <a href=\"https://github.com/JuliaLang/julia/tree/483dbf5279efe29f94cf35d42de0ab0a673fb34e/base/linalg/sparse.jl#L111\" target=\"_blank\">linalg/sparse.jl:111</a><li> *<i>{TvA,TiA}</i>(X::<b>BitArray{2}</b>,A::<b>SparseMatrixCSC{TvA,TiA}</b>) at <a href=\"https://github.com/JuliaLang/julia/tree/483dbf5279efe29f94cf35d42de0ab0a673fb34e/base/linalg/sparse.jl#L126\" target=\"_blank\">linalg/sparse.jl:126</a><li> *<i>{TX,TvA,TiA}</i>(X::<b>Tridiagonal{TX}</b>,A::<b>SparseMatrixCSC{TvA,TiA}</b>) at <a href=\"https://github.com/JuliaLang/julia/tree/483dbf5279efe29f94cf35d42de0ab0a673fb34e/base/linalg/sparse.jl#L128\" target=\"_blank\">linalg/sparse.jl:128</a><li> *<i>{T<:Number}</i>(x::<b>AbstractArray{T<:Number,N}</b>) at <a href=\"https://github.com/JuliaLang/julia/tree/483dbf5279efe29f94cf35d42de0ab0a673fb34e/base/abstractarray.jl#L363\" target=\"_blank\">abstractarray.jl:363</a><li> *(B::<b>Number</b>,A::<b>SymTridiagonal{T}</b>) at <a href=\"https://github.com/JuliaLang/julia/tree/483dbf5279efe29f94cf35d42de0ab0a673fb34e/base/linalg/tridiag.jl#L60\" target=\"_blank\">linalg/tridiag.jl:60</a><li> *(B::<b>Number</b>,A::<b>Tridiagonal{T}</b>) at <a href=\"https://github.com/JuliaLang/julia/tree/483dbf5279efe29f94cf35d42de0ab0a673fb34e/base/linalg/tridiag.jl#L250\" target=\"_blank\">linalg/tridiag.jl:250</a><li> *<i>{T,S,UpLo,IsUnit}</i>(x::<b>Number</b>,A::<b>Triangular{T,S,UpLo,IsUnit}</b>) at <a href=\"https://github.com/JuliaLang/julia/tree/483dbf5279efe29f94cf35d42de0ab0a673fb34e/base/linalg/triangular.jl#L167\" target=\"_blank\">linalg/triangular.jl:167</a><li> *(B::<b>Number</b>,A::<b>Bidiagonal{T}</b>) at <a href=\"https://github.com/JuliaLang/julia/tree/483dbf5279efe29f94cf35d42de0ab0a673fb34e/base/linalg/bidiag.jl#L109\" target=\"_blank\">linalg/bidiag.jl:109</a><li> *(A::<b>Number</b>,B::<b>AbstractArray{T,N}</b>) at <a href=\"https://github.com/JuliaLang/julia/tree/483dbf5279efe29f94cf35d42de0ab0a673fb34e/base/abstractarray.jl#L367\" target=\"_blank\">abstractarray.jl:367</a><li> *(A::<b>AbstractArray{T,N}</b>,B::<b>Number</b>) at <a href=\"https://github.com/JuliaLang/julia/tree/483dbf5279efe29f94cf35d42de0ab0a673fb34e/base/abstractarray.jl#L368\" target=\"_blank\">abstractarray.jl:368</a><li> *(s::<b>String...</b>) at <a href=\"https://github.com/JuliaLang/julia/tree/483dbf5279efe29f94cf35d42de0ab0a673fb34e/base/string.jl#L76\" target=\"_blank\">string.jl:76</a><li> *<i>{T,S<:AbstractArray{T,2},UpLo,IsUnit}</i>(A::<b>AbstractArray{T,2}</b>,B::<b>Triangular{T,S<:AbstractArray{T,2},UpLo,IsUnit}</b>) at <a href=\"https://github.com/JuliaLang/julia/tree/483dbf5279efe29f94cf35d42de0ab0a673fb34e/base/linalg/triangular.jl#L211\" target=\"_blank\">linalg/triangular.jl:211</a><li> *<i>{TX,TvA,TiA}</i>(X::<b>AbstractArray{TX,2}</b>,A::<b>SparseMatrixCSC{TvA,TiA}</b>) at <a href=\"https://github.com/JuliaLang/julia/tree/483dbf5279efe29f94cf35d42de0ab0a673fb34e/base/linalg/sparse.jl#L131\" target=\"_blank\">linalg/sparse.jl:131</a><li> *<i>{T,S}</i>(A::<b>AbstractArray{T,2}</b>,x::<b>AbstractArray{S,1}</b>) at <a href=\"https://github.com/JuliaLang/julia/tree/483dbf5279efe29f94cf35d42de0ab0a673fb34e/base/linalg/matmul.jl#L71\" target=\"_blank\">linalg/matmul.jl:71</a><li> *<i>{T1,T2}</i>(X::<b>AbstractArray{T1,1}</b>,A::<b>SparseMatrixCSC{T2,Ti<:Integer}</b>) at <a href=\"https://github.com/JuliaLang/julia/tree/483dbf5279efe29f94cf35d42de0ab0a673fb34e/base/linalg/sparse.jl#L99\" target=\"_blank\">linalg/sparse.jl:99</a><li> *(A::<b>AbstractArray{T,1}</b>,B::<b>AbstractArray{T,2}</b>) at <a href=\"https://github.com/JuliaLang/julia/tree/483dbf5279efe29f94cf35d42de0ab0a673fb34e/base/linalg/matmul.jl#L74\" target=\"_blank\">linalg/matmul.jl:74</a><li> *(J1::<b>UniformScaling{T<:Number}</b>,J2::<b>UniformScaling{T<:Number}</b>) at <a href=\"https://github.com/JuliaLang/julia/tree/483dbf5279efe29f94cf35d42de0ab0a673fb34e/base/linalg/uniformscaling.jl#L67\" target=\"_blank\">linalg/uniformscaling.jl:67</a><li> *(J::<b>UniformScaling{T<:Number}</b>,B::<b>BitArray{2}</b>) at <a href=\"https://github.com/JuliaLang/julia/tree/483dbf5279efe29f94cf35d42de0ab0a673fb34e/base/linalg/uniformscaling.jl#L69\" target=\"_blank\">linalg/uniformscaling.jl:69</a><li> *<i>{Tv,Ti}</i>(J::<b>UniformScaling{T<:Number}</b>,S::<b>SparseMatrixCSC{Tv,Ti}</b>) at <a href=\"https://github.com/JuliaLang/julia/tree/483dbf5279efe29f94cf35d42de0ab0a673fb34e/base/linalg/uniformscaling.jl#L71\" target=\"_blank\">linalg/uniformscaling.jl:71</a><li> *(A::<b>AbstractArray{T,2}</b>,J::<b>UniformScaling{T<:Number}</b>) at <a href=\"https://github.com/JuliaLang/julia/tree/483dbf5279efe29f94cf35d42de0ab0a673fb34e/base/linalg/uniformscaling.jl#L72\" target=\"_blank\">linalg/uniformscaling.jl:72</a><li> *(J::<b>UniformScaling{T<:Number}</b>,A::<b>Union(AbstractArray{T,2},AbstractArray{T,1})</b>) at <a href=\"https://github.com/JuliaLang/julia/tree/483dbf5279efe29f94cf35d42de0ab0a673fb34e/base/linalg/uniformscaling.jl#L73\" target=\"_blank\">linalg/uniformscaling.jl:73</a><li> *(x::<b>Number</b>,J::<b>UniformScaling{T<:Number}</b>) at <a href=\"https://github.com/JuliaLang/julia/tree/483dbf5279efe29f94cf35d42de0ab0a673fb34e/base/linalg/uniformscaling.jl#L75\" target=\"_blank\">linalg/uniformscaling.jl:75</a><li> *(J::<b>UniformScaling{T<:Number}</b>,x::<b>Number</b>) at <a href=\"https://github.com/JuliaLang/julia/tree/483dbf5279efe29f94cf35d42de0ab0a673fb34e/base/linalg/uniformscaling.jl#L76\" target=\"_blank\">linalg/uniformscaling.jl:76</a><li> *<i>{Tv<:Float64}</i>(A::<b>CholmodSparse{Tv<:Float64,Int32}</b>,B::<b>CholmodSparse{Tv<:Float64,Int32}</b>) at <a href=\"https://github.com/JuliaLang/julia/tree/483dbf5279efe29f94cf35d42de0ab0a673fb34e/base/linalg/cholmod.jl#L496\" target=\"_blank\">linalg/cholmod.jl:496</a><li> *<i>{Tv<:Float64}</i>(A::<b>CholmodSparse{Tv<:Float64,Int64}</b>,B::<b>CholmodSparse{Tv<:Float64,Int64}</b>) at <a href=\"https://github.com/JuliaLang/julia/tree/483dbf5279efe29f94cf35d42de0ab0a673fb34e/base/linalg/cholmod.jl#L496\" target=\"_blank\">linalg/cholmod.jl:496</a><li> *<i>{Tv<:Union(Float64,Complex{Float64})}</i>(A::<b>CholmodSparse{Tv<:Union(Float64,Complex{Float64}),Ti<:Union(Int64,Int32)}</b>,B::<b>CholmodDense{Tv<:Union(Float64,Complex{Float64})}</b>) at <a href=\"https://github.com/JuliaLang/julia/tree/483dbf5279efe29f94cf35d42de0ab0a673fb34e/base/linalg/cholmod.jl#L870\" target=\"_blank\">linalg/cholmod.jl:870</a><li> *<i>{Tv<:Union(Float64,Complex{Float64})}</i>(A::<b>CholmodSparse{Tv<:Union(Float64,Complex{Float64}),Ti<:Union(Int64,Int32)}</b>,B::<b>Union(Array{Tv<:Union(Float64,Complex{Float64}),1},Array{Tv<:Union(Float64,Complex{Float64}),2})</b>) at <a href=\"https://github.com/JuliaLang/julia/tree/483dbf5279efe29f94cf35d42de0ab0a673fb34e/base/linalg/cholmod.jl#L871\" target=\"_blank\">linalg/cholmod.jl:871</a><li> *(p::<b>Vec2</b>,s::<b>Real</b>) at <a href=\"https://github.com/JuliaLang/julia/tree/483dbf5279efe29f94cf35d42de0ab0a673fb34e/base/graphics.jl#L62\" target=\"_blank\">graphics.jl:62</a><li> *(bb::<b>BoundingBox</b>,s::<b>Real</b>) at <a href=\"https://github.com/JuliaLang/julia/tree/483dbf5279efe29f94cf35d42de0ab0a673fb34e/base/graphics.jl#L147\" target=\"_blank\">graphics.jl:147</a><li> *(a,b,c) at <a href=\"https://github.com/JuliaLang/julia/tree/483dbf5279efe29f94cf35d42de0ab0a673fb34e/base/operators.jl#L82\" target=\"_blank\">operators.jl:82</a><li> *(a,b,c,xs...) at <a href=\"https://github.com/JuliaLang/julia/tree/483dbf5279efe29f94cf35d42de0ab0a673fb34e/base/operators.jl#L83\" target=\"_blank\">operators.jl:83</a></ul>"
      ],
      "text/plain": [
       "# 115 methods for generic function \"*\":\n",
       "*(x::Bool,y::Bool) at bool.jl:41\n",
       "*{T<:Unsigned}(x::Bool,y::T<:Unsigned) at bool.jl:56\n",
       "*(x::Bool,z::Complex{T<:Real}) at complex.jl:116\n",
       "*{T<:Number}(x::Bool,y::T<:Number) at bool.jl:52\n",
       "*(z::Complex{T<:Real},x::Bool) at complex.jl:117\n",
       "*(y::Number,x::Bool) at bool.jl:58\n",
       "*{T,S}(A::Union(SubArray{T,2,A<:DenseArray{T,N},I<:(Union(Range{Int64},Int64)...,)},DenseArray{T,2}),B::Union(DenseArray{S,2},SubArray{S,2,A<:DenseArray{T,N},I<:(Union(Range{Int64},Int64)...,)})) at linalg/matmul.jl:116\n",
       "*(A::Union(Hermitian{T},Symmetric{T}),B::Union(Hermitian{T},Symmetric{T})) at linalg/symmetric.jl:35\n",
       "*(A::Union(Hermitian{T},Symmetric{T}),B::Union(SubArray{T,2,A<:DenseArray{T,N},I<:(Union(Range{Int64},Int64)...,)},DenseArray{T,2})) at linalg/symmetric.jl:36\n",
       "*(A::Union(SubArray{T,2,A<:DenseArray{T,N},I<:(Union(Range{Int64},Int64)...,)},DenseArray{T,2}),B::Union(Hermitian{T},Symmetric{T})) at linalg/symmetric.jl:37\n",
       "*{T<:Union(Float64,Complex{Float32},Float32,Complex{Float64}),S<:Union(SubArray{T,2,A<:DenseArray{T,N},I<:(Union(Range{Int64},Int64)...,)},DenseArray{T,2}),UpLo,IsUnit}(A::Triangular{T<:Union(Float64,Complex{Float32},Float32,Complex{Float64}),S<:Union(SubArray{T,2,A<:DenseArray{T,N},I<:(Union(Range{Int64},Int64)...,)},DenseArray{T,2}),UpLo,IsUnit},B::Triangular{T<:Union(Float64,Complex{Float32},Float32,Complex{Float64}),S<:Union(SubArray{T,2,A<:DenseArray{T,N},I<:(Union(Range{Int64},Int64)...,)},DenseArray{T,2}),UpLo,IsUnit}) at linalg/triangular.jl:23\n",
       "*(A::Tridiagonal{T},B::Triangular{T,S<:AbstractArray{T,2},UpLo,IsUnit}) at linalg/triangular.jl:206\n",
       "*{TA,TB,SA<:AbstractArray{T,2},SB<:AbstractArray{T,2},UpLoA,UpLoB,IsUnitA,IsUnitB}(A::Triangular{TA,SA<:AbstractArray{T,2},UpLoA,IsUnitA},B::Triangular{TB,SB<:AbstractArray{T,2},UpLoB,IsUnitB}) at linalg/triangular.jl:209\n",
       "*(Da::Diagonal{T},Db::Diagonal{T}) at linalg/diagonal.jl:53\n",
       "*(A::Union(SymTridiagonal{T},Tridiagonal{T},Diagonal{T},Bidiagonal{T},Triangular{T,S<:AbstractArray{T,2},UpLo,IsUnit}),B::Union(SymTridiagonal{T},Tridiagonal{T},Diagonal{T},Bidiagonal{T},Triangular{T,S<:AbstractArray{T,2},UpLo,IsUnit})) at linalg/bidiag.jl:114\n",
       "*{T<:Union(Int16,Int8,Int32)}(x::T<:Union(Int16,Int8,Int32),y::T<:Union(Int16,Int8,Int32)) at int.jl:18\n",
       "*{T<:Union(Uint8,Uint16,Uint32)}(x::T<:Union(Uint8,Uint16,Uint32),y::T<:Union(Uint8,Uint16,Uint32)) at int.jl:22\n",
       "*(x::Int64,y::Int64) at int.jl:47\n",
       "*(x::Uint64,y::Uint64) at int.jl:48\n",
       "*(x::Int128,y::Int128) at int.jl:586\n",
       "*(x::Uint128,y::Uint128) at int.jl:587\n",
       "*(x::Float32,y::Float32) at float.jl:123\n",
       "*(x::Float64,y::Float64) at float.jl:124\n",
       "*(z::Complex{T<:Real},w::Complex{T<:Real}) at complex.jl:112\n",
       "*(x::Real,z::Complex{T<:Real}) at complex.jl:118\n",
       "*(z::Complex{T<:Real},x::Real) at complex.jl:119\n",
       "*(x::Rational{T<:Integer},y::Rational{T<:Integer}) at rational.jl:118\n",
       "*(a::Float16,b::Float16) at float16.jl:132\n",
       "*(x::BigInt,y::BigInt) at gmp.jl:195\n",
       "*(a::BigInt,b::BigInt,c::BigInt) at gmp.jl:218\n",
       "*(a::BigInt,b::BigInt,c::BigInt,d::BigInt) at gmp.jl:224\n",
       "*(a::BigInt,b::BigInt,c::BigInt,d::BigInt,e::BigInt) at gmp.jl:231\n",
       "*(x::BigInt,c::Union(Uint8,Uint16,Uint64,Uint32)) at gmp.jl:265\n",
       "*(c::Union(Uint8,Uint16,Uint64,Uint32),x::BigInt) at gmp.jl:269\n",
       "*(x::BigInt,c::Union(Int16,Int8,Int32,Int64)) at gmp.jl:271\n",
       "*(c::Union(Int16,Int8,Int32,Int64),x::BigInt) at gmp.jl:275\n",
       "*(x::BigFloat,y::BigFloat) at mpfr.jl:149\n",
       "*(x::BigFloat,c::Union(Uint8,Uint16,Uint64,Uint32)) at mpfr.jl:156\n",
       "*(c::Union(Uint8,Uint16,Uint64,Uint32),x::BigFloat) at mpfr.jl:160\n",
       "*(x::BigFloat,c::Union(Int16,Int8,Int32,Int64)) at mpfr.jl:164\n",
       "*(c::Union(Int16,Int8,Int32,Int64),x::BigFloat) at mpfr.jl:168\n",
       "*(x::BigFloat,c::Union(Float64,Float16,Float32)) at mpfr.jl:172\n",
       "*(c::Union(Float64,Float16,Float32),x::BigFloat) at mpfr.jl:176\n",
       "*(x::BigFloat,c::BigInt) at mpfr.jl:180\n",
       "*(c::BigInt,x::BigFloat) at mpfr.jl:184\n",
       "*(a::BigFloat,b::BigFloat,c::BigFloat) at mpfr.jl:255\n",
       "*(a::BigFloat,b::BigFloat,c::BigFloat,d::BigFloat) at mpfr.jl:261\n",
       "*(a::BigFloat,b::BigFloat,c::BigFloat,d::BigFloat,e::BigFloat) at mpfr.jl:268\n",
       "*(x::MathConst{sym},y::MathConst{sym}) at constants.jl:23\n",
       "*{T<:Number}(x::T<:Number,y::T<:Number) at promotion.jl:189\n",
       "*(x::Number,y::Number) at promotion.jl:159\n",
       "*{T<:Number}(x::T<:Number,D::Diagonal{T}) at linalg/diagonal.jl:50\n",
       "*(s::Real,p::Vec2) at graphics.jl:64\n",
       "*(s::Real,bb::BoundingBox) at graphics.jl:151\n",
       "*(x::Number) at operators.jl:72\n",
       "*{T<:Union(Float64,Complex{Float32},Float32,Complex{Float64}),S}(A::Union(SubArray{T<:Union(Float64,Complex{Float32},Float32,Complex{Float64}),2,A<:DenseArray{T,N},I<:(Union(Range{Int64},Int64)...,)},DenseArray{T<:Union(Float64,Complex{Float32},Float32,Complex{Float64}),2}),x::Union(SubArray{S,1,A<:DenseArray{T,N},I<:(Union(Range{Int64},Int64)...,)},DenseArray{S,1})) at linalg/matmul.jl:67\n",
       "*(A::SymTridiagonal{T},B::Number) at linalg/tridiag.jl:59\n",
       "*(A::Tridiagonal{T},B::Number) at linalg/tridiag.jl:249\n",
       "*{T<:Union(Float64,Complex{Float32},Float32,Complex{Float64}),S<:Union(SubArray{T,2,A<:DenseArray{T,N},I<:(Union(Range{Int64},Int64)...,)},DenseArray{T,2}),UpLo,IsUnit}(A::Triangular{T<:Union(Float64,Complex{Float32},Float32,Complex{Float64}),S<:Union(SubArray{T,2,A<:DenseArray{T,N},I<:(Union(Range{Int64},Int64)...,)},DenseArray{T,2}),UpLo,IsUnit},B::Union(SubArray{T,2,A<:DenseArray{T,N},I<:(Union(Range{Int64},Int64)...,)},SubArray{T,1,A<:DenseArray{T,N},I<:(Union(Range{Int64},Int64)...,)},DenseArray{T,2},DenseArray{T,1})) at linalg/triangular.jl:24\n",
       "*{T,S,UpLo,IsUnit}(A::Triangular{T,S,UpLo,IsUnit},x::Number) at linalg/triangular.jl:157\n",
       "*{TvA,TiA}(X::Triangular{T,S<:AbstractArray{T,2},UpLo,IsUnit},A::SparseMatrixCSC{TvA,TiA}) at linalg/sparse.jl:129\n",
       "*{T,S<:AbstractArray{T,2},UpLo,IsUnit}(A::Triangular{T,S<:AbstractArray{T,2},UpLo,IsUnit},B::Union(AbstractArray{T,2},AbstractArray{T,1})) at linalg/triangular.jl:210\n",
       "*{TA,Tb}(A::Union(QRPackedQ{TA},QRCompactWYQ{TA}),b::Union(DenseArray{Tb,1},SubArray{Tb,1,A<:DenseArray{T,N},I<:(Union(Range{Int64},Int64)...,)})) at linalg/factorization.jl:277\n",
       "*{TA,TB}(A::Union(QRPackedQ{TA},QRCompactWYQ{TA}),B::Union(DenseArray{TB,2},SubArray{TB,2,A<:DenseArray{T,N},I<:(Union(Range{Int64},Int64)...,)})) at linalg/factorization.jl:283\n",
       "*{TA,TQ,N}(A::Union(SubArray{TA,N,A<:DenseArray{T,N},I<:(Union(Range{Int64},Int64)...,)},DenseArray{TA,N}),Q::Union(QRCompactWYQ{TQ},QRPackedQ{TQ})) at linalg/factorization.jl:345\n",
       "*(W::Woodbury{T},B::Union(SubArray{T,2,A<:DenseArray{T,N},I<:(Union(Range{Int64},Int64)...,)},SubArray{T,1,A<:DenseArray{T,N},I<:(Union(Range{Int64},Int64)...,)},DenseArray{T,2},DenseArray{T,1})) at linalg/woodbury.jl:70\n",
       "*{T<:Number}(D::Diagonal{T},x::T<:Number) at linalg/diagonal.jl:51\n",
       "*(D::Diagonal{T},V::Array{T,1}) at linalg/diagonal.jl:54\n",
       "*(A::Array{T,2},D::Diagonal{T}) at linalg/diagonal.jl:55\n",
       "*(D::Diagonal{T},A::Array{T,2}) at linalg/diagonal.jl:56\n",
       "*(A::Bidiagonal{T},B::Number) at linalg/bidiag.jl:108\n",
       "*{T}(A::Bidiagonal{T},B::AbstractArray{T,1}) at linalg/bidiag.jl:119\n",
       "*(B::BitArray{2},J::UniformScaling{T<:Number}) at linalg/uniformscaling.jl:68\n",
       "*(S::SparseMatrixCSC{Tv,Ti<:Integer},J::UniformScaling{T<:Number}) at linalg/uniformscaling.jl:70\n",
       "*{T}(G1::Givens{T},G2::Givens{T}) at linalg/givens.jl:197\n",
       "*(G::Givens{T},B::BitArray{2}) at linalg/givens.jl:198\n",
       "*{TBf,TBi}(G::Givens{T},B::SparseMatrixCSC{TBf,TBi}) at linalg/givens.jl:199\n",
       "*(R::Union(Rotation{T},Givens{T}),A::AbstractArray{T,2}) at linalg/givens.jl:200\n",
       "*{Tv,Ti}(A::SparseMatrixCSC{Tv,Ti},B::SparseMatrixCSC{Tv,Ti}) at linalg/sparse.jl:143\n",
       "*{TvA,TiA,TvB,TiB}(A::SparseMatrixCSC{TvA,TiA},B::SparseMatrixCSC{TvB,TiB}) at linalg/sparse.jl:4\n",
       "*{TvA,TiA}(A::SparseMatrixCSC{TvA,TiA},X::BitArray{1}) at linalg/sparse.jl:11\n",
       "*{TvA,TiA}(A::SparseMatrixCSC{TvA,TiA},X::BitArray{2}) at linalg/sparse.jl:109\n",
       "*{TA,S,Tx}(A::SparseMatrixCSC{TA,S},x::AbstractArray{Tx,1}) at linalg/sparse.jl:32\n",
       "*(X::BitArray{1},A::SparseMatrixCSC{Tv,Ti<:Integer}) at linalg/sparse.jl:95\n",
       "*{TvA,TiA,TX}(A::SparseMatrixCSC{TvA,TiA},X::AbstractArray{TX,2}) at linalg/sparse.jl:111\n",
       "*{TvA,TiA}(X::BitArray{2},A::SparseMatrixCSC{TvA,TiA}) at linalg/sparse.jl:126\n",
       "*{TX,TvA,TiA}(X::Tridiagonal{TX},A::SparseMatrixCSC{TvA,TiA}) at linalg/sparse.jl:128\n",
       "*{T<:Number}(x::AbstractArray{T<:Number,N}) at abstractarray.jl:363\n",
       "*(B::Number,A::SymTridiagonal{T}) at linalg/tridiag.jl:60\n",
       "*(B::Number,A::Tridiagonal{T}) at linalg/tridiag.jl:250\n",
       "*{T,S,UpLo,IsUnit}(x::Number,A::Triangular{T,S,UpLo,IsUnit}) at linalg/triangular.jl:167\n",
       "*(B::Number,A::Bidiagonal{T}) at linalg/bidiag.jl:109\n",
       "*(A::Number,B::AbstractArray{T,N}) at abstractarray.jl:367\n",
       "*(A::AbstractArray{T,N},B::Number) at abstractarray.jl:368\n",
       "*(s::String...) at string.jl:76\n",
       "*{T,S<:AbstractArray{T,2},UpLo,IsUnit}(A::AbstractArray{T,2},B::Triangular{T,S<:AbstractArray{T,2},UpLo,IsUnit}) at linalg/triangular.jl:211\n",
       "*{TX,TvA,TiA}(X::AbstractArray{TX,2},A::SparseMatrixCSC{TvA,TiA}) at linalg/sparse.jl:131\n",
       "*{T,S}(A::AbstractArray{T,2},x::AbstractArray{S,1}) at linalg/matmul.jl:71\n",
       "*{T1,T2}(X::AbstractArray{T1,1},A::SparseMatrixCSC{T2,Ti<:Integer}) at linalg/sparse.jl:99\n",
       "*(A::AbstractArray{T,1},B::AbstractArray{T,2}) at linalg/matmul.jl:74\n",
       "*(J1::UniformScaling{T<:Number},J2::UniformScaling{T<:Number}) at linalg/uniformscaling.jl:67\n",
       "*(J::UniformScaling{T<:Number},B::BitArray{2}) at linalg/uniformscaling.jl:69\n",
       "*{Tv,Ti}(J::UniformScaling{T<:Number},S::SparseMatrixCSC{Tv,Ti}) at linalg/uniformscaling.jl:71\n",
       "*(A::AbstractArray{T,2},J::UniformScaling{T<:Number}) at linalg/uniformscaling.jl:72\n",
       "*(J::UniformScaling{T<:Number},A::Union(AbstractArray{T,2},AbstractArray{T,1})) at linalg/uniformscaling.jl:73\n",
       "*(x::Number,J::UniformScaling{T<:Number}) at linalg/uniformscaling.jl:75\n",
       "*(J::UniformScaling{T<:Number},x::Number) at linalg/uniformscaling.jl:76\n",
       "*{Tv<:Float64}(A::CholmodSparse{Tv<:Float64,Int32},B::CholmodSparse{Tv<:Float64,Int32}) at linalg/cholmod.jl:496\n",
       "*{Tv<:Float64}(A::CholmodSparse{Tv<:Float64,Int64},B::CholmodSparse{Tv<:Float64,Int64}) at linalg/cholmod.jl:496\n",
       "*{Tv<:Union(Float64,Complex{Float64})}(A::CholmodSparse{Tv<:Union(Float64,Complex{Float64}),Ti<:Union(Int64,Int32)},B::CholmodDense{Tv<:Union(Float64,Complex{Float64})}) at linalg/cholmod.jl:870\n",
       "*{Tv<:Union(Float64,Complex{Float64})}(A::CholmodSparse{Tv<:Union(Float64,Complex{Float64}),Ti<:Union(Int64,Int32)},B::Union(Array{Tv<:Union(Float64,Complex{Float64}),1},Array{Tv<:Union(Float64,Complex{Float64}),2})) at linalg/cholmod.jl:871\n",
       "*(p::Vec2,s::Real) at graphics.jl:62\n",
       "*(bb::BoundingBox,s::Real) at graphics.jl:147\n",
       "*(a,b,c) at operators.jl:82\n",
       "*(a,b,c,xs...) at operators.jl:83"
      ]
     },
     "execution_count": 1,
     "metadata": {},
     "output_type": "execute_result"
    }
   ],
   "source": [
    "methods(*)"
   ]
  },
  {
   "cell_type": "markdown",
   "metadata": {},
   "source": [
    "We can add new methods to a given function at any time.  The methods don't \"belong\" to a particular type, and aren't part of the type's definition.\n",
    "\n",
    "For example, string concatenation in Julia is done via `*`:"
   ]
  },
  {
   "cell_type": "code",
   "execution_count": 2,
   "metadata": {
    "collapsed": false
   },
   "outputs": [
    {
     "data": {
      "text/plain": [
       "\"helloworld\""
      ]
     },
     "execution_count": 2,
     "metadata": {},
     "output_type": "execute_result"
    }
   ],
   "source": [
    "\"hello\" * \"world\""
   ]
  },
  {
   "cell_type": "code",
   "execution_count": 3,
   "metadata": {
    "collapsed": false
   },
   "outputs": [
    {
     "ename": "LoadError",
     "evalue": "`+` has no method matching +(::ASCIIString, ::ASCIIString)\nwhile loading In[3], in expression starting on line 1",
     "output_type": "error",
     "traceback": [
      "`+` has no method matching +(::ASCIIString, ::ASCIIString)\nwhile loading In[3], in expression starting on line 1",
      ""
     ]
    }
   ],
   "source": [
    "\"hello\" + \"world\""
   ]
  },
  {
   "cell_type": "markdown",
   "metadata": {},
   "source": [
    "But we can easily extend `+` to support a concatenation for strings, if we want:"
   ]
  },
  {
   "cell_type": "code",
   "execution_count": 4,
   "metadata": {
    "collapsed": false
   },
   "outputs": [
    {
     "data": {
      "text/plain": [
       "+ (generic function with 120 methods)"
      ]
     },
     "execution_count": 4,
     "metadata": {},
     "output_type": "execute_result"
    }
   ],
   "source": [
    "import Base.+ # we must import a method to add methods (as opposed to replacing it)\n",
    "+(x::String, y::String) = x * \" \" * y"
   ]
  },
  {
   "cell_type": "code",
   "execution_count": 5,
   "metadata": {
    "collapsed": false
   },
   "outputs": [
    {
     "data": {
      "text/plain": [
       "\"hello world\""
      ]
     },
     "execution_count": 5,
     "metadata": {},
     "output_type": "execute_result"
    }
   ],
   "source": [
    "\"hello\" + \"world\""
   ]
  },
  {
   "cell_type": "markdown",
   "metadata": {},
   "source": [
    "## Not the same as C++ overloading: Dynamic vs. static"
   ]
  },
  {
   "cell_type": "markdown",
   "metadata": {},
   "source": [
    "This may look a lot like function overloading in languages like C++.   The difference is that C++'s overloading is **static** (= *dispatch at compile-time*), whereas Julia's overloading is dynamic (= *dispatch at run-time*), like OO polymorphism.\n",
    "\n",
    "For example, now that we've defined `+`, we can use strings with any previously defined function that requires a `+` operation, like `sum` (summation):"
   ]
  },
  {
   "cell_type": "code",
   "execution_count": 6,
   "metadata": {
    "collapsed": false
   },
   "outputs": [
    {
     "data": {
      "text/plain": [
       "\"The quick brown fox jumped over the lazy dog.\""
      ]
     },
     "execution_count": 6,
     "metadata": {},
     "output_type": "execute_result"
    }
   ],
   "source": [
    "sum([\"The\", \"quick\", \"brown\", \"fox\", \"jumped\", \"over\", \"the\", \"lazy\", \"dog.\"])"
   ]
  },
  {
   "cell_type": "markdown",
   "metadata": {},
   "source": [
    "## Type declarations are \"function filters\""
   ]
  },
  {
   "cell_type": "markdown",
   "metadata": {},
   "source": [
    "Type declarations are *not* required for performance — Julia automatically specializes a function on its argument types during compilation.  They act like **filters**, allowing us to specify *which functions are used when*.\n",
    "\n",
    "Without this, in a language like Python, you sometimes have to write *manual function filters* like this example from Matplotlib's [quiver.py](https://github.com/matplotlib/matplotlib/blob/43150ef012e405de5c2fb7b779d1bffa77f7af81/lib/matplotlib/quiver.py):\n",
    "```python\n",
    "def _parse_args(*args):\n",
    "    X, Y, U, V, C = [None] * 5\n",
    "    args = list(args)\n",
    "    # The use of atleast_1d allows for handling scalar arguments while also\n",
    "    # keeping masked arrays\n",
    "    if len(args) == 3 or len(args) == 5:\n",
    "        C = np.atleast_1d(args.pop(-1))\n",
    "    V = np.atleast_1d(args.pop(-1))\n",
    "    U = np.atleast_1d(args.pop(-1))\n",
    "    if U.ndim == 1:\n",
    "        nr, nc = 1, U.shape[0]\n",
    "    else:\n",
    "        nr, nc = U.shape\n",
    "    if len(args) == 2: # remaining after removing U,V,C\n",
    "        X, Y = [np.array(a).ravel() for a in args]\n",
    "        if len(X) == nc and len(Y) == nr:\n",
    "            X, Y = [a.ravel() for a in np.meshgrid(X, Y)]\n",
    "    else:\n",
    "        indexgrid = np.meshgrid(np.arange(nc), np.arange(nr))\n",
    "        X, Y = [np.ravel(a) for a in indexgrid]\n",
    "    return X, Y, U, V, C\n",
    "```\n",
    "In Julia, you could define different methods for differing numbers of arguments, arrays vs. scalars, etcetera (all eventually calling a single lower-level function to do the work once the arguments have been transformed)."
   ]
  }
 ],
 "metadata": {
  "kernelspec": {
   "display_name": "Julia 0.3.11",
   "language": "julia",
   "name": "julia-0.3"
  },
  "language": "Julia",
  "language_info": {
   "file_extension": ".jl",
   "mimetype": "application/julia",
   "name": "julia",
   "version": "0.3.11"
  }
 },
 "nbformat": 4,
 "nbformat_minor": 0
}
